{
 "cells": [
  {
   "cell_type": "code",
   "execution_count": 1,
   "metadata": {},
   "outputs": [
    {
     "name": "stdout",
     "output_type": "stream",
     "text": [
      "../course-material-time-series-forecasting-product/nyc_data.csv\n"
     ]
    }
   ],
   "source": [
    "main_path = '../course-material-time-series-forecasting-product'\n",
    "nyc_data = main_path+str(\"/nyc_data.csv\")\n",
    "print(nyc_data)"
   ]
  },
  {
   "cell_type": "code",
   "execution_count": null,
   "metadata": {},
   "outputs": [],
   "source": [
    "# Libraries \n",
    "import numpy as np \n",
    "import pandas as pd \n",
    "import matplotlib.pyplot as plt\n",
    "from sklearn.model_selection import ParameterGrid\n"
   ]
  },
  {
   "cell_type": "code",
   "execution_count": null,
   "metadata": {},
   "outputs": [],
   "source": [
    "# load the data\n",
    "# YYYY-MM-DD\n",
    "df = pd.read_csv(nyc_data, index_col=0, parse_dates=True)\n",
    "df.head() "
   ]
  },
  {
   "cell_type": "code",
   "execution_count": null,
   "metadata": {},
   "outputs": [],
   "source": [
    "# Rename variable \n",
    "df = df.rename(columns={'Demand': 'y'})\n",
    "df.head()"
   ]
  },
  {
   "cell_type": "code",
   "execution_count": null,
   "metadata": {},
   "outputs": [],
   "source": [
    "# Parameter tunning outcome \n",
    "tuning_results = pd.DataFrame(grid)\n",
    "tuning_results['rmse'] = rmse\n",
    "tuning_results"
   ]
  },
  {
   "cell_type": "code",
   "execution_count": null,
   "metadata": {},
   "outputs": [],
   "source": [
    "# Exporting the tunned parameters\n",
    "best_params = tuning_results[tuning_results.rmse == tuning_results.rmse.min()].transpose()\n",
    "best_params.to_csv(\"XXX_best_params_forecasting_product.csv\")\n",
    "best_params"
   ]
  }
 ],
 "metadata": {
  "kernelspec": {
   "display_name": ".python_env",
   "language": "python",
   "name": "python3"
  },
  "language_info": {
   "codemirror_mode": {
    "name": "ipython",
    "version": 3
   },
   "file_extension": ".py",
   "mimetype": "text/x-python",
   "name": "python",
   "nbconvert_exporter": "python",
   "pygments_lexer": "ipython3",
   "version": "3.11.6"
  }
 },
 "nbformat": 4,
 "nbformat_minor": 2
}
