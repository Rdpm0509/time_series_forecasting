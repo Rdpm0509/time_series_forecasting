{
 "cells": [
  {
   "cell_type": "code",
   "execution_count": null,
   "metadata": {},
   "outputs": [],
   "source": [
    "main_path = 'course-material-time-series-forecasting-product'\n",
    "nyc_data = main_path+str(\"/nyc_data.csv\")\n",
    "print(nyc_data)"
   ]
  },
  {
   "cell_type": "code",
   "execution_count": null,
   "metadata": {},
   "outputs": [],
   "source": [
    "# Libraries \n",
    "import numpy as np \n",
    "import pandas as pd \n",
    "import matplotlib.pyplot as plt\n",
    "from sklearn.model_selection import ParameterGrid"
   ]
  },
  {
   "cell_type": "code",
   "execution_count": null,
   "metadata": {},
   "outputs": [],
   "source": [
    "# load the data\n",
    "# YYYY-MM-DD\n",
    "df = pd.read_csv(nyc_data, index_col=0, parse_dates=True)\n",
    "df.head() "
   ]
  },
  {
   "cell_type": "code",
   "execution_count": null,
   "metadata": {},
   "outputs": [],
   "source": [
    "# Rename variable \n",
    "df = df.rename(columns={'Demand': 'y'})\n",
    "df.head(0)"
   ]
  },
  {
   "cell_type": "code",
   "execution_count": null,
   "metadata": {},
   "outputs": [],
   "source": [
    "# Extract regressors (Easter up until the end)\n",
    "X = df.iloc[:, 1:]\n",
    "X.head(0)"
   ]
  },
  {
   "cell_type": "markdown",
   "metadata": {},
   "source": [
    "# Stationarity "
   ]
  },
  {
   "cell_type": "code",
   "execution_count": null,
   "metadata": {},
   "outputs": [],
   "source": [
    "# Test \n",
    "from statsmodels.tsa.stattools import adfuller \n",
    "# x is our data series\n",
    "# check the returns of this function. p-value is at index 1. \n",
    "pvalue = adfuller(x=df.y)[1]\n",
    "\n",
    "# condition to read test \n",
    "if pvalue < 0.05: \n",
    "    print(f'Time Series is stationary.\\np-value is: {pvalue}')\n",
    "else: \n",
    "    print(f'Time Series is NOT stationary.\\np-value is: {pvalue}')"
   ]
  },
  {
   "cell_type": "code",
   "execution_count": null,
   "metadata": {},
   "outputs": [],
   "source": [
    "# Because the p-value is higher than 0.05 and the series isnt stationary, we need to do differencing. \n",
    "df.y.diff().dropna()"
   ]
  },
  {
   "cell_type": "code",
   "execution_count": null,
   "metadata": {},
   "outputs": [],
   "source": [
    "# Test \n",
    "from statsmodels.tsa.stattools import adfuller \n",
    "# x is our data series\n",
    "# check the returns of this function. p-value is at index 1. \n",
    "pvalue = adfuller(x=df.y.diff().dropna())[1]\n",
    "\n",
    "# condition to read test \n",
    "if pvalue < 0.05: \n",
    "    print(f'Time Series is stationary.\\np-value is: {pvalue}')\n",
    "else: \n",
    "    print(f'Time Series is NOT stationary.\\np-value is: {pvalue}')"
   ]
  },
  {
   "cell_type": "markdown",
   "metadata": {},
   "source": [
    "# Sarimax model"
   ]
  },
  {
   "cell_type": "code",
   "execution_count": null,
   "metadata": {},
   "outputs": [],
   "source": [
    "import pmdarima as pm\n",
    "from pmdarima import model_selection"
   ]
  },
  {
   "cell_type": "code",
   "execution_count": null,
   "metadata": {},
   "outputs": [],
   "source": [
    "# Model \n",
    "# hourly: 24, daily: 7, weekly: 52, monthly:12, quarterly:4\n",
    "# You can only choose to have one seasonality when using ARIMA/SARIMAX\n",
    "# For daily data we use 7. \n",
    "model = pm.ARIMA(\n",
    "    X = X,\n",
    "    order = (1,1,1),\n",
    "    seasonal_order= (1,1,1,7),\n",
    "    # Sometimes some combinations of parameters give 'impossible statistical values' and the code stops. \n",
    "    # We can supress the warning otherwise once this problem is encountered, the code stops. \n",
    "    suppress_warnings= True,  \n",
    "    # default=True. False for two reasons. 1: less erros. 2: it is good to release constrains when doing the parameter tunning. \n",
    "    force_stationarity = False\n",
    "    )"
   ]
  },
  {
   "cell_type": "code",
   "execution_count": 26,
   "metadata": {},
   "outputs": [
    {
     "name": "stdout",
     "output_type": "stream",
     "text": [
      "[CV] fold=0 ..........................................................\n",
      "[CV] fold=1 ..........................................................\n",
      "[CV] fold=2 ..........................................................\n",
      "[CV] fold=3 ..........................................................\n",
      "[CV] fold=4 ..........................................................\n",
      "[CV] fold=5 ..........................................................\n",
      "[CV] fold=6 ..........................................................\n",
      "[CV] fold=7 ..........................................................\n",
      "[CV] fold=8 ..........................................................\n",
      "[CV] fold=9 ..........................................................\n"
     ]
    }
   ],
   "source": [
    "# Cross-validation\n",
    "cv = model_selection.RollingForecastCV(\n",
    "    h=31, # h parameter = horizon = periods we want to predict in the future\n",
    "    step=16, #cycle of the forecasting ???\n",
    "    initial= df.shape[0]-180 #180 days in the past\n",
    "    )\n",
    "\n",
    "# Visualizing the metrics\n",
    "cv_score = model_selection.cross_val_score(\n",
    "    model, \n",
    "    y=df.y, \n",
    "    scoring='mean_squared_error',\n",
    "    cv = cv, \n",
    "    verbose = 2, \n",
    "    error_score = 10000000000000000000000 #??? I do not understand this parameter yet\n",
    ")"
   ]
  },
  {
   "cell_type": "code",
   "execution_count": 29,
   "metadata": {},
   "outputs": [
    {
     "data": {
      "text/plain": [
       "59.955301678704274"
      ]
     },
     "execution_count": 29,
     "metadata": {},
     "output_type": "execute_result"
    }
   ],
   "source": [
    "# CV performance (without the parameter tunning)\n",
    "\n",
    "# mean squared average\n",
    "np.average(cv_score)\n",
    "\n",
    "# root mean squared error \n",
    "np.sqrt(np.average(cv_score))"
   ]
  },
  {
   "cell_type": "markdown",
   "metadata": {},
   "source": [
    "# Now we can start the parameter tunning"
   ]
  },
  {
   "cell_type": "code",
   "execution_count": 33,
   "metadata": {},
   "outputs": [
    {
     "data": {
      "text/plain": [
       "32"
      ]
     },
     "execution_count": 33,
     "metadata": {},
     "output_type": "execute_result"
    }
   ],
   "source": [
    "#Grid  (usually, lower values are the optimal solution, so ideally it is good to start with low values for tunning)\n",
    "param_grid = {\n",
    "    'p':[0,1],\n",
    "    'd':[1],\n",
    "    'q':[0,1],\n",
    "    'P':[0,1],\n",
    "    'D':[0,1],\n",
    "    'Q':[0,1],\n",
    "    }\n",
    "\n",
    "grid = ParameterGrid(param_grid)\n",
    "len(list(grid))"
   ]
  },
  {
   "cell_type": "code",
   "execution_count": null,
   "metadata": {},
   "outputs": [],
   "source": []
  }
 ],
 "metadata": {
  "kernelspec": {
   "display_name": "Python 3",
   "language": "python",
   "name": "python3"
  },
  "language_info": {
   "codemirror_mode": {
    "name": "ipython",
    "version": 3
   },
   "file_extension": ".py",
   "mimetype": "text/x-python",
   "name": "python",
   "nbconvert_exporter": "python",
   "pygments_lexer": "ipython3",
   "version": "3.10.12"
  }
 },
 "nbformat": 4,
 "nbformat_minor": 2
}
